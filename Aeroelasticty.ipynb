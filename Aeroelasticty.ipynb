{
  "nbformat": 4,
  "nbformat_minor": 0,
  "metadata": {
    "colab": {
      "provenance": []
    },
    "kernelspec": {
      "name": "python3",
      "display_name": "Python 3"
    },
    "language_info": {
      "name": "python"
    }
  },
  "cells": [
    {
      "cell_type": "code",
      "source": [
        "#Divergence\n",
        "#All units are in ft,lb\n",
        "alpha_r=0.01  #taking small alpha as initial value\n",
        "theeta=[0,0]\n",
        "cl_alpha=6\n",
        "c=0.5\n",
        "b=3\n",
        "S=b*c\n",
        "K=225*12\n",
        "rho=0.0765\n",
        "q=1\n",
        "while theeta[1]-theeta[0]<=0.001:\n",
        "  theeta=[0,0]\n",
        "  n=5000\n",
        "  for i in range(0,n):\n",
        "    alpha=alpha_r+theeta[0]\n",
        "    A=q*S*cl_alpha*c/4\n",
        "    B=K*((c**2)/4)\n",
        "    Ta=A*alpha\n",
        "    theeta[1]=Ta/B\n",
        "    #theeta[0]=theeta[1]\n",
        "    #print(theeta[1])\n",
        "    if theeta[1]-theeta[0]<=0.001:\n",
        "      break\n",
        "    else:\n",
        "      if i==n-1:\n",
        "        print('Divergence dynamic pressure(lb/ft^2)=',q)\n",
        "        v=((2*q)/rho)**0.5\n",
        "        print('Divergence velocity(ft/sec^2):',v)\n",
        "      else:\n",
        "        theeta[0]=theeta[1]\n",
        "  q=q+1\n"
      ],
      "metadata": {
        "colab": {
          "base_uri": "https://localhost:8080/"
        },
        "id": "9Tk1EuEHsVRq",
        "outputId": "37914ea2-935d-4bfd-b5a1-8f37f67728ca"
      },
      "execution_count": null,
      "outputs": [
        {
          "output_type": "stream",
          "name": "stdout",
          "text": [
            "Divergence dynamic pressure(lb/ft^2)= 150\n",
            "Divergence velocity(ft/sec^2): 62.62242910851495\n"
          ]
        }
      ]
    },
    {
      "cell_type": "code",
      "source": [
        "#Reversal\n",
        "alpha_r=input('Enter initial angle of attack=')\n",
        "cl_alpha=input('Enter lift curve slope=')\n",
        "c=('chord=')\n",
        "b=input('Enter span of wing=')\n",
        "S=b*c;\n",
        "K=('Enter stiffness of the spring=')\n",
        "rho=('Density=')\n",
        "Cm_ac=input('Enter moment coefficient about AC:')\n",
        "e=input('distance between Aerodynamic center and Elastic center:')\n",
        "def divergence():\n",
        "  theeta=[0,0]\n",
        "  m=int(input('Enter an range of q:'))\n",
        "  for q in range (0,m):\n",
        "    if theeta[1]-theeta[0]>0.001:\n",
        "      break\n",
        "    theeta=[0,0]\n",
        "    n=int(input('Enter number of iterations:'))\n",
        "    for i in range(0,n):\n",
        "      alpha=alpha_r+theeta[0];\n",
        "      A=q*S*cl_alpha*e;\n",
        "      Mac=Cm_ac*q*S*Cm_ac\n",
        "      B=K\n",
        "      Ta=(A*alpha)+Mac\n",
        "      theeta[1]=Ta/B;\n",
        "    #theeta[0]=theeta[1]\n",
        "    #print(theeta[1])\n",
        "      if theeta[1]-theeta[0]<=0.001:\n",
        "        break\n",
        "      else:\n",
        "        if i==n-1:\n",
        "          print('Divergence dynamic pressure=',q)\n",
        "          v=((2*q)/rho)**0.5\n",
        "          print('Divergence velocity:',v)\n",
        "        else:\n",
        "          theeta[0]=theeta[1]\n",
        "divergence()\n"
      ],
      "metadata": {
        "colab": {
          "base_uri": "https://localhost:8080/"
        },
        "id": "uc7VcesRAKsl",
        "outputId": "f81e5dd5-2773-4669-fbee-a222dc8d61c3"
      },
      "execution_count": null,
      "outputs": [
        {
          "name": "stdout",
          "output_type": "stream",
          "text": [
            "Enter initial angle of attack=0.01\n"
          ]
        }
      ]
    }
  ]
}